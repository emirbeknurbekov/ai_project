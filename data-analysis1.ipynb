{
 "cells": [
  {
   "cell_type": "code",
   "execution_count": 1,
   "id": "b9011550",
   "metadata": {
    "_cell_guid": "b1076dfc-b9ad-4769-8c92-a6c4dae69d19",
    "_uuid": "8f2839f25d086af736a60e9eeb907d3b93b6e0e5",
    "execution": {
     "iopub.execute_input": "2023-05-16T04:00:15.262341Z",
     "iopub.status.busy": "2023-05-16T04:00:15.261761Z",
     "iopub.status.idle": "2023-05-16T04:00:16.490694Z",
     "shell.execute_reply": "2023-05-16T04:00:16.489467Z"
    },
    "papermill": {
     "duration": 1.241438,
     "end_time": "2023-05-16T04:00:16.493098",
     "exception": false,
     "start_time": "2023-05-16T04:00:15.251660",
     "status": "completed"
    },
    "tags": []
   },
   "outputs": [
    {
     "name": "stderr",
     "output_type": "stream",
     "text": [
      "/opt/conda/lib/python3.10/site-packages/scipy/__init__.py:146: UserWarning: A NumPy version >=1.16.5 and <1.23.0 is required for this version of SciPy (detected version 1.23.5\n",
      "  warnings.warn(f\"A NumPy version >={np_minversion} and <{np_maxversion}\"\n"
     ]
    }
   ],
   "source": [
    "import pandas as pd\n",
    "import numpy as np\n",
    "import seaborn as sns\n",
    "import matplotlib.pyplot as plt\n",
    "%matplotlib inline\n",
    "from statistics import mean, median, mode, stdev\n",
    "import statistics"
   ]
  },
  {
   "cell_type": "code",
   "execution_count": null,
   "id": "51e028fd",
   "metadata": {
    "execution": {
     "iopub.execute_input": "2023-05-16T04:00:16.510892Z",
     "iopub.status.busy": "2023-05-16T04:00:16.510543Z",
     "iopub.status.idle": "2023-05-16T04:00:16.609927Z",
     "shell.execute_reply": "2023-05-16T04:00:16.608982Z"
    },
    "papermill": {
     "duration": 0.110376,
     "end_time": "2023-05-16T04:00:16.611657",
     "exception": false,
     "start_time": "2023-05-16T04:00:16.501281",
     "status": "completed"
    },
    "tags": []
   },
   "outputs": [
    {
     "data": {
      "text/html": [
       "<div>\n",
       "<style scoped>\n",
       "    .dataframe tbody tr th:only-of-type {\n",
       "        vertical-align: middle;\n",
       "    }\n",
       "\n",
       "    .dataframe tbody tr th {\n",
       "        vertical-align: top;\n",
       "    }\n",
       "\n",
       "    .dataframe thead th {\n",
       "        text-align: right;\n",
       "    }\n",
       "</style>\n",
       "<table border=\"1\" class=\"dataframe\">\n",
       "  <thead>\n",
       "    <tr style=\"text-align: right;\">\n",
       "      <th></th>\n",
       "      <th>season</th>\n",
       "      <th>id</th>\n",
       "      <th>name</th>\n",
       "      <th>short_name</th>\n",
       "      <th>description</th>\n",
       "      <th>home_team</th>\n",
       "      <th>away_team</th>\n",
       "      <th>toss_won</th>\n",
       "      <th>decision</th>\n",
       "      <th>1st_inning_score</th>\n",
       "      <th>...</th>\n",
       "      <th>home_playx1</th>\n",
       "      <th>away_playx1</th>\n",
       "      <th>away_key_batsman</th>\n",
       "      <th>away_key_bowler</th>\n",
       "      <th>match_days</th>\n",
       "      <th>umpire1</th>\n",
       "      <th>umpire2</th>\n",
       "      <th>tv_umpire</th>\n",
       "      <th>referee</th>\n",
       "      <th>reserve_umpire</th>\n",
       "    </tr>\n",
       "  </thead>\n",
       "  <tbody>\n",
       "    <tr>\n",
       "      <th>0</th>\n",
       "      <td>2022</td>\n",
       "      <td>1304047</td>\n",
       "      <td>Chennai Super Kings v Kolkata Knight Riders</td>\n",
       "      <td>CSK v KKR</td>\n",
       "      <td>1st Match (N), Indian Premier League at Mumbai...</td>\n",
       "      <td>CSK</td>\n",
       "      <td>KKR</td>\n",
       "      <td>KKR</td>\n",
       "      <td>BOWL FIRST</td>\n",
       "      <td>131/5</td>\n",
       "      <td>...</td>\n",
       "      <td>Ruturaj Gaikwad (UKN),Devon Conway (UKN),Robin...</td>\n",
       "      <td>Ajinkya Rahane (UKN),Venkatesh Iyer (AR),Nitis...</td>\n",
       "      <td>Ajinkya Rahane,Sam Billings</td>\n",
       "      <td>Umesh Yadav,Varun Chakravarthy</td>\n",
       "      <td>26 March 2022 - night match (20-over match)</td>\n",
       "      <td>Anil Chaudhary</td>\n",
       "      <td>Nitin Menon</td>\n",
       "      <td>Virender Sharma</td>\n",
       "      <td>Manu Nayyar</td>\n",
       "      <td>Chirra Ravikanthreddy</td>\n",
       "    </tr>\n",
       "    <tr>\n",
       "      <th>1</th>\n",
       "      <td>2022</td>\n",
       "      <td>1304048</td>\n",
       "      <td>Delhi Capitals v Mumbai Indians</td>\n",
       "      <td>DC v MI</td>\n",
       "      <td>2nd Match (D/N), Indian Premier League at Mumb...</td>\n",
       "      <td>DC</td>\n",
       "      <td>MI</td>\n",
       "      <td>DC</td>\n",
       "      <td>BOWL FIRST</td>\n",
       "      <td>177/5</td>\n",
       "      <td>...</td>\n",
       "      <td>Prithvi Shaw (UKN),Tim Seifert (UKN),Mandeep S...</td>\n",
       "      <td>Rohit Sharma (UKN),Ishan Kishan (WK),Anmolpree...</td>\n",
       "      <td>Ishan Kishan,Rohit Sharma</td>\n",
       "      <td>Basil Thampi,Murugan Ashwin</td>\n",
       "      <td>27 March 2022 - day/night match (20-over match)</td>\n",
       "      <td>Saiyed Khalid</td>\n",
       "      <td>Rod Tucker</td>\n",
       "      <td>Jayaraman Madanagopal</td>\n",
       "      <td>Prakash Bhatt</td>\n",
       "      <td>Nitin Pandit</td>\n",
       "    </tr>\n",
       "    <tr>\n",
       "      <th>2</th>\n",
       "      <td>2022</td>\n",
       "      <td>1304049</td>\n",
       "      <td>Punjab Kings v Royal Challengers Bangalore</td>\n",
       "      <td>PBKS v RCB</td>\n",
       "      <td>3rd Match (N), Indian Premier League at Navi M...</td>\n",
       "      <td>PBKS</td>\n",
       "      <td>RCB</td>\n",
       "      <td>KXIP</td>\n",
       "      <td>BOWL FIRST</td>\n",
       "      <td>205/2</td>\n",
       "      <td>...</td>\n",
       "      <td>Mayank Agarwal (UKN),Shikhar Dhawan (UKN),Bhan...</td>\n",
       "      <td>Faf du Plessis (UKN),Anuj Rawat (UKN),Virat Ko...</td>\n",
       "      <td>Faf du Plessis,Virat Kohli</td>\n",
       "      <td>Mohammed Siraj,Harshal Patel</td>\n",
       "      <td>27 March 2022 - night match (20-over match)</td>\n",
       "      <td>Yeshwant Barde</td>\n",
       "      <td>Nitin Menon</td>\n",
       "      <td>Anil Chaudhary</td>\n",
       "      <td>Manu Nayyar</td>\n",
       "      <td>Rohan Pandit</td>\n",
       "    </tr>\n",
       "    <tr>\n",
       "      <th>3</th>\n",
       "      <td>2022</td>\n",
       "      <td>1304050</td>\n",
       "      <td>Gujarat Titans v Lucknow Super Giants</td>\n",
       "      <td>GT v LSG</td>\n",
       "      <td>4th Match (N), Indian Premier League at Mumbai...</td>\n",
       "      <td>GT</td>\n",
       "      <td>LSG</td>\n",
       "      <td>GT</td>\n",
       "      <td>BOWL FIRST</td>\n",
       "      <td>158/6</td>\n",
       "      <td>...</td>\n",
       "      <td>Shubman Gill (UKN),Matthew Wade (WK),Vijay Sha...</td>\n",
       "      <td>KL Rahul (UKN),Quinton de Kock (WK),Evin Lewis...</td>\n",
       "      <td>Deepak Hooda,Ayush Badoni</td>\n",
       "      <td>Dushmantha Chameera,Krunal Pandya</td>\n",
       "      <td>28 March 2022 - night match (20-over match)</td>\n",
       "      <td>Pashchim Pathak</td>\n",
       "      <td>Virender Sharma</td>\n",
       "      <td>Rod Tucker</td>\n",
       "      <td>Daniel Manohar</td>\n",
       "      <td>Sadashiv Iyer</td>\n",
       "    </tr>\n",
       "    <tr>\n",
       "      <th>4</th>\n",
       "      <td>2022</td>\n",
       "      <td>1304051</td>\n",
       "      <td>Sunrisers Hyderabad v Rajasthan Royals</td>\n",
       "      <td>SRH v RR</td>\n",
       "      <td>5th Match (N), Indian Premier League at Pune, ...</td>\n",
       "      <td>SRH</td>\n",
       "      <td>RR</td>\n",
       "      <td>SRH</td>\n",
       "      <td>BOWL FIRST</td>\n",
       "      <td>210/6</td>\n",
       "      <td>...</td>\n",
       "      <td>Kane Williamson (UKN),Abhishek Sharma (AR),Rah...</td>\n",
       "      <td>Jos Buttler (UKN),Yashasvi Jaiswal (UKN),Sanju...</td>\n",
       "      <td>Sanju Samson,Devdutt Padikkal</td>\n",
       "      <td>Yuzvendra Chahal,Prasidh Krishna</td>\n",
       "      <td>29 March 2022 - night match (20-over match)</td>\n",
       "      <td>Ulhas Gandhe</td>\n",
       "      <td>Bruce Oxenford</td>\n",
       "      <td>KN Ananthapadmanabhan</td>\n",
       "      <td>Shakti Singh</td>\n",
       "      <td>Saidharshan Kumar</td>\n",
       "    </tr>\n",
       "    <tr>\n",
       "      <th>...</th>\n",
       "      <td>...</td>\n",
       "      <td>...</td>\n",
       "      <td>...</td>\n",
       "      <td>...</td>\n",
       "      <td>...</td>\n",
       "      <td>...</td>\n",
       "      <td>...</td>\n",
       "      <td>...</td>\n",
       "      <td>...</td>\n",
       "      <td>...</td>\n",
       "      <td>...</td>\n",
       "      <td>...</td>\n",
       "      <td>...</td>\n",
       "      <td>...</td>\n",
       "      <td>...</td>\n",
       "      <td>...</td>\n",
       "      <td>...</td>\n",
       "      <td>...</td>\n",
       "      <td>...</td>\n",
       "      <td>...</td>\n",
       "      <td>...</td>\n",
       "    </tr>\n",
       "    <tr>\n",
       "      <th>953</th>\n",
       "      <td>2008</td>\n",
       "      <td>336012</td>\n",
       "      <td>Royal Challengers Bangalore v Mumbai Indians</td>\n",
       "      <td>RCB v MI</td>\n",
       "      <td>55th match (D/N), Indian Premier League at Ben...</td>\n",
       "      <td>RCB</td>\n",
       "      <td>MI</td>\n",
       "      <td>MI</td>\n",
       "      <td>BOWL FIRST</td>\n",
       "      <td>122/9</td>\n",
       "      <td>...</td>\n",
       "      <td>Mark Boucher (BT),Shreevats Goswami (WK),Misba...</td>\n",
       "      <td>Sanath Jayasuriya (AR),Sachin Tendulkar (BT),R...</td>\n",
       "      <td>Sanath Jayasuriya,Sachin Tendulkar</td>\n",
       "      <td>Dilhara Fernando,Dwayne Smith</td>\n",
       "      <td>28 May 2008 - day/night match (20-over match)</td>\n",
       "      <td>Billy Bowden</td>\n",
       "      <td>Arani Jayaprakash</td>\n",
       "      <td>Billy Doctrove</td>\n",
       "      <td>Sir Clive Lloyd</td>\n",
       "      <td>None</td>\n",
       "    </tr>\n",
       "    <tr>\n",
       "      <th>954</th>\n",
       "      <td>2008</td>\n",
       "      <td>336019</td>\n",
       "      <td>Kings XI Punjab v Rajasthan Royals</td>\n",
       "      <td>KXIP v RR</td>\n",
       "      <td>56th match (N), Indian Premier League at Mohal...</td>\n",
       "      <td>KXIP</td>\n",
       "      <td>RR</td>\n",
       "      <td>RR</td>\n",
       "      <td>BOWL FIRST</td>\n",
       "      <td>221/3</td>\n",
       "      <td>...</td>\n",
       "      <td>Shaun Marsh (BT),James Hopes (AR),Yuvraj Singh...</td>\n",
       "      <td>Mohammad Kaif (BT),Niraj Patel (UKN),Younis Kh...</td>\n",
       "      <td>Niraj Patel,Yusuf Pathan</td>\n",
       "      <td>Shane Watson,Yusuf Pathan</td>\n",
       "      <td>28 May 2008 - night match (20-over match)</td>\n",
       "      <td>Krishna Hariharan</td>\n",
       "      <td>Steve Davis</td>\n",
       "      <td>Daryl Harper</td>\n",
       "      <td>Srinivas Venkataraghavan</td>\n",
       "      <td>MS Mahal</td>\n",
       "    </tr>\n",
       "    <tr>\n",
       "      <th>955</th>\n",
       "      <td>2008</td>\n",
       "      <td>336038</td>\n",
       "      <td>Delhi Daredevils v Rajasthan Royals</td>\n",
       "      <td>DC v RR</td>\n",
       "      <td>1st Semi-Final (N), Indian Premier League at M...</td>\n",
       "      <td>DC</td>\n",
       "      <td>RR</td>\n",
       "      <td>DC</td>\n",
       "      <td>BOWL FIRST</td>\n",
       "      <td>192/9</td>\n",
       "      <td>...</td>\n",
       "      <td>Gautam Gambhir (BT),Virender Sehwag (BT),Shikh...</td>\n",
       "      <td>Graeme Smith (BT),Swapnil Asnodkar (BT),Sohail...</td>\n",
       "      <td>Shane Watson,Yusuf Pathan</td>\n",
       "      <td>Shane Watson,Munaf Patel</td>\n",
       "      <td>30 May 2008 - night match (20-over match)</td>\n",
       "      <td>Billy Bowden</td>\n",
       "      <td>Rudi Koertzen</td>\n",
       "      <td>Billy Doctrove</td>\n",
       "      <td>Javagal Srinath</td>\n",
       "      <td>None</td>\n",
       "    </tr>\n",
       "    <tr>\n",
       "      <th>956</th>\n",
       "      <td>2008</td>\n",
       "      <td>336039</td>\n",
       "      <td>Chennai Super Kings v Kings XI Punjab</td>\n",
       "      <td>CSK v KXIP</td>\n",
       "      <td>2nd Semi-Final (N), Indian Premier League at M...</td>\n",
       "      <td>CSK</td>\n",
       "      <td>KXIP</td>\n",
       "      <td>KXIP</td>\n",
       "      <td>BAT FIRST</td>\n",
       "      <td>112/8</td>\n",
       "      <td>...</td>\n",
       "      <td>Parthiv Patel (WK),Vidyut Sivaramakrishnan (UK...</td>\n",
       "      <td>Shaun Marsh (BT),James Hopes (AR),Kumar Sangak...</td>\n",
       "      <td>Ramesh Powar,Wilkin Mota</td>\n",
       "      <td>Irfan Pathan,Vikram Singh</td>\n",
       "      <td>31 May 2008 - night match (20-over match)</td>\n",
       "      <td>Asad Rauf</td>\n",
       "      <td>Daryl Harper</td>\n",
       "      <td>Krishna Hariharan</td>\n",
       "      <td>Srinivas Venkataraghavan</td>\n",
       "      <td>None</td>\n",
       "    </tr>\n",
       "    <tr>\n",
       "      <th>957</th>\n",
       "      <td>2008</td>\n",
       "      <td>336040</td>\n",
       "      <td>Chennai Super Kings v Rajasthan Royals</td>\n",
       "      <td>CSK v RR</td>\n",
       "      <td>Final (N), Indian Premier League at Mumbai, Ju...</td>\n",
       "      <td>CSK</td>\n",
       "      <td>RR</td>\n",
       "      <td>RR</td>\n",
       "      <td>BOWL FIRST</td>\n",
       "      <td>163/5</td>\n",
       "      <td>...</td>\n",
       "      <td>Parthiv Patel (WK),Vidyut Sivaramakrishnan (UK...</td>\n",
       "      <td>Niraj Patel (UKN),Swapnil Asnodkar (BT),Kamran...</td>\n",
       "      <td>Yusuf Pathan,Swapnil Asnodkar</td>\n",
       "      <td>Yusuf Pathan,Shane Watson</td>\n",
       "      <td>1 June 2008 - night match (20-over match)</td>\n",
       "      <td>Billy Bowden</td>\n",
       "      <td>Rudi Koertzen</td>\n",
       "      <td>Daryl Harper</td>\n",
       "      <td>Javagal Srinath</td>\n",
       "      <td>MR Singh</td>\n",
       "    </tr>\n",
       "  </tbody>\n",
       "</table>\n",
       "<p>958 rows × 45 columns</p>\n",
       "</div>"
      ],
      "text/plain": [
       "     season       id                                          name  \\\n",
       "0      2022  1304047   Chennai Super Kings v Kolkata Knight Riders   \n",
       "1      2022  1304048               Delhi Capitals v Mumbai Indians   \n",
       "2      2022  1304049    Punjab Kings v Royal Challengers Bangalore   \n",
       "3      2022  1304050         Gujarat Titans v Lucknow Super Giants   \n",
       "4      2022  1304051        Sunrisers Hyderabad v Rajasthan Royals   \n",
       "..      ...      ...                                           ...   \n",
       "953    2008   336012  Royal Challengers Bangalore v Mumbai Indians   \n",
       "954    2008   336019            Kings XI Punjab v Rajasthan Royals   \n",
       "955    2008   336038           Delhi Daredevils v Rajasthan Royals   \n",
       "956    2008   336039         Chennai Super Kings v Kings XI Punjab   \n",
       "957    2008   336040        Chennai Super Kings v Rajasthan Royals   \n",
       "\n",
       "     short_name                                        description home_team  \\\n",
       "0     CSK v KKR  1st Match (N), Indian Premier League at Mumbai...       CSK   \n",
       "1       DC v MI  2nd Match (D/N), Indian Premier League at Mumb...        DC   \n",
       "2    PBKS v RCB  3rd Match (N), Indian Premier League at Navi M...      PBKS   \n",
       "3      GT v LSG  4th Match (N), Indian Premier League at Mumbai...        GT   \n",
       "4      SRH v RR  5th Match (N), Indian Premier League at Pune, ...       SRH   \n",
       "..          ...                                                ...       ...   \n",
       "953    RCB v MI  55th match (D/N), Indian Premier League at Ben...       RCB   \n",
       "954   KXIP v RR  56th match (N), Indian Premier League at Mohal...      KXIP   \n",
       "955     DC v RR  1st Semi-Final (N), Indian Premier League at M...        DC   \n",
       "956  CSK v KXIP  2nd Semi-Final (N), Indian Premier League at M...       CSK   \n",
       "957    CSK v RR  Final (N), Indian Premier League at Mumbai, Ju...       CSK   \n",
       "\n",
       "    away_team toss_won    decision 1st_inning_score  ...  \\\n",
       "0         KKR      KKR  BOWL FIRST            131/5  ...   \n",
       "1          MI       DC  BOWL FIRST            177/5  ...   \n",
       "2         RCB     KXIP  BOWL FIRST            205/2  ...   \n",
       "3         LSG       GT  BOWL FIRST            158/6  ...   \n",
       "4          RR      SRH  BOWL FIRST            210/6  ...   \n",
       "..        ...      ...         ...              ...  ...   \n",
       "953        MI       MI  BOWL FIRST            122/9  ...   \n",
       "954        RR       RR  BOWL FIRST            221/3  ...   \n",
       "955        RR       DC  BOWL FIRST            192/9  ...   \n",
       "956      KXIP     KXIP   BAT FIRST            112/8  ...   \n",
       "957        RR       RR  BOWL FIRST            163/5  ...   \n",
       "\n",
       "                                           home_playx1  \\\n",
       "0    Ruturaj Gaikwad (UKN),Devon Conway (UKN),Robin...   \n",
       "1    Prithvi Shaw (UKN),Tim Seifert (UKN),Mandeep S...   \n",
       "2    Mayank Agarwal (UKN),Shikhar Dhawan (UKN),Bhan...   \n",
       "3    Shubman Gill (UKN),Matthew Wade (WK),Vijay Sha...   \n",
       "4    Kane Williamson (UKN),Abhishek Sharma (AR),Rah...   \n",
       "..                                                 ...   \n",
       "953  Mark Boucher (BT),Shreevats Goswami (WK),Misba...   \n",
       "954  Shaun Marsh (BT),James Hopes (AR),Yuvraj Singh...   \n",
       "955  Gautam Gambhir (BT),Virender Sehwag (BT),Shikh...   \n",
       "956  Parthiv Patel (WK),Vidyut Sivaramakrishnan (UK...   \n",
       "957  Parthiv Patel (WK),Vidyut Sivaramakrishnan (UK...   \n",
       "\n",
       "                                           away_playx1  \\\n",
       "0    Ajinkya Rahane (UKN),Venkatesh Iyer (AR),Nitis...   \n",
       "1    Rohit Sharma (UKN),Ishan Kishan (WK),Anmolpree...   \n",
       "2    Faf du Plessis (UKN),Anuj Rawat (UKN),Virat Ko...   \n",
       "3    KL Rahul (UKN),Quinton de Kock (WK),Evin Lewis...   \n",
       "4    Jos Buttler (UKN),Yashasvi Jaiswal (UKN),Sanju...   \n",
       "..                                                 ...   \n",
       "953  Sanath Jayasuriya (AR),Sachin Tendulkar (BT),R...   \n",
       "954  Mohammad Kaif (BT),Niraj Patel (UKN),Younis Kh...   \n",
       "955  Graeme Smith (BT),Swapnil Asnodkar (BT),Sohail...   \n",
       "956  Shaun Marsh (BT),James Hopes (AR),Kumar Sangak...   \n",
       "957  Niraj Patel (UKN),Swapnil Asnodkar (BT),Kamran...   \n",
       "\n",
       "                       away_key_batsman                    away_key_bowler  \\\n",
       "0           Ajinkya Rahane,Sam Billings     Umesh Yadav,Varun Chakravarthy   \n",
       "1             Ishan Kishan,Rohit Sharma        Basil Thampi,Murugan Ashwin   \n",
       "2            Faf du Plessis,Virat Kohli       Mohammed Siraj,Harshal Patel   \n",
       "3             Deepak Hooda,Ayush Badoni  Dushmantha Chameera,Krunal Pandya   \n",
       "4         Sanju Samson,Devdutt Padikkal   Yuzvendra Chahal,Prasidh Krishna   \n",
       "..                                  ...                                ...   \n",
       "953  Sanath Jayasuriya,Sachin Tendulkar      Dilhara Fernando,Dwayne Smith   \n",
       "954            Niraj Patel,Yusuf Pathan          Shane Watson,Yusuf Pathan   \n",
       "955           Shane Watson,Yusuf Pathan           Shane Watson,Munaf Patel   \n",
       "956            Ramesh Powar,Wilkin Mota          Irfan Pathan,Vikram Singh   \n",
       "957       Yusuf Pathan,Swapnil Asnodkar          Yusuf Pathan,Shane Watson   \n",
       "\n",
       "                                          match_days            umpire1  \\\n",
       "0        26 March 2022 - night match (20-over match)     Anil Chaudhary   \n",
       "1    27 March 2022 - day/night match (20-over match)      Saiyed Khalid   \n",
       "2        27 March 2022 - night match (20-over match)     Yeshwant Barde   \n",
       "3        28 March 2022 - night match (20-over match)    Pashchim Pathak   \n",
       "4        29 March 2022 - night match (20-over match)       Ulhas Gandhe   \n",
       "..                                               ...                ...   \n",
       "953    28 May 2008 - day/night match (20-over match)       Billy Bowden   \n",
       "954        28 May 2008 - night match (20-over match)  Krishna Hariharan   \n",
       "955        30 May 2008 - night match (20-over match)       Billy Bowden   \n",
       "956        31 May 2008 - night match (20-over match)          Asad Rauf   \n",
       "957        1 June 2008 - night match (20-over match)       Billy Bowden   \n",
       "\n",
       "               umpire2              tv_umpire                   referee  \\\n",
       "0          Nitin Menon        Virender Sharma               Manu Nayyar   \n",
       "1           Rod Tucker  Jayaraman Madanagopal             Prakash Bhatt   \n",
       "2          Nitin Menon         Anil Chaudhary               Manu Nayyar   \n",
       "3      Virender Sharma             Rod Tucker            Daniel Manohar   \n",
       "4       Bruce Oxenford  KN Ananthapadmanabhan              Shakti Singh   \n",
       "..                 ...                    ...                       ...   \n",
       "953  Arani Jayaprakash         Billy Doctrove           Sir Clive Lloyd   \n",
       "954        Steve Davis           Daryl Harper  Srinivas Venkataraghavan   \n",
       "955      Rudi Koertzen         Billy Doctrove           Javagal Srinath   \n",
       "956       Daryl Harper      Krishna Hariharan  Srinivas Venkataraghavan   \n",
       "957      Rudi Koertzen           Daryl Harper           Javagal Srinath   \n",
       "\n",
       "            reserve_umpire  \n",
       "0    Chirra Ravikanthreddy  \n",
       "1             Nitin Pandit  \n",
       "2             Rohan Pandit  \n",
       "3            Sadashiv Iyer  \n",
       "4        Saidharshan Kumar  \n",
       "..                     ...  \n",
       "953                   None  \n",
       "954               MS Mahal  \n",
       "955                   None  \n",
       "956                   None  \n",
       "957               MR Singh  \n",
       "\n",
       "[958 rows x 45 columns]"
      ]
     },
     "execution_count": 2,
     "metadata": {},
     "output_type": "execute_result"
    }
   ],
   "source": [
    "df=pd.read_csv('/kaggle/input/indian-premier-league-ipl-all-seasons/all_season_summary.csv')\n",
    "df"
   ]
  },
  {
   "cell_type": "code",
   "execution_count": 3,
   "id": "ef2abb6e",
   "metadata": {
    "execution": {
     "iopub.execute_input": "2023-05-16T04:00:16.630931Z",
     "iopub.status.busy": "2023-05-16T04:00:16.630581Z",
     "iopub.status.idle": "2023-05-16T04:00:16.646057Z",
     "shell.execute_reply": "2023-05-16T04:00:16.645057Z"
    },
    "papermill": {
     "duration": 0.027304,
     "end_time": "2023-05-16T04:00:16.647808",
     "exception": false,
     "start_time": "2023-05-16T04:00:16.620504",
     "status": "completed"
    },
    "tags": []
   },
   "outputs": [
    {
     "data": {
      "text/plain": [
       "<bound method DataFrame.info of      season       id                                          name  \\\n",
       "0      2022  1304047   Chennai Super Kings v Kolkata Knight Riders   \n",
       "1      2022  1304048               Delhi Capitals v Mumbai Indians   \n",
       "2      2022  1304049    Punjab Kings v Royal Challengers Bangalore   \n",
       "3      2022  1304050         Gujarat Titans v Lucknow Super Giants   \n",
       "4      2022  1304051        Sunrisers Hyderabad v Rajasthan Royals   \n",
       "..      ...      ...                                           ...   \n",
       "953    2008   336012  Royal Challengers Bangalore v Mumbai Indians   \n",
       "954    2008   336019            Kings XI Punjab v Rajasthan Royals   \n",
       "955    2008   336038           Delhi Daredevils v Rajasthan Royals   \n",
       "956    2008   336039         Chennai Super Kings v Kings XI Punjab   \n",
       "957    2008   336040        Chennai Super Kings v Rajasthan Royals   \n",
       "\n",
       "     short_name                                        description home_team  \\\n",
       "0     CSK v KKR  1st Match (N), Indian Premier League at Mumbai...       CSK   \n",
       "1       DC v MI  2nd Match (D/N), Indian Premier League at Mumb...        DC   \n",
       "2    PBKS v RCB  3rd Match (N), Indian Premier League at Navi M...      PBKS   \n",
       "3      GT v LSG  4th Match (N), Indian Premier League at Mumbai...        GT   \n",
       "4      SRH v RR  5th Match (N), Indian Premier League at Pune, ...       SRH   \n",
       "..          ...                                                ...       ...   \n",
       "953    RCB v MI  55th match (D/N), Indian Premier League at Ben...       RCB   \n",
       "954   KXIP v RR  56th match (N), Indian Premier League at Mohal...      KXIP   \n",
       "955     DC v RR  1st Semi-Final (N), Indian Premier League at M...        DC   \n",
       "956  CSK v KXIP  2nd Semi-Final (N), Indian Premier League at M...       CSK   \n",
       "957    CSK v RR  Final (N), Indian Premier League at Mumbai, Ju...       CSK   \n",
       "\n",
       "    away_team toss_won    decision 1st_inning_score  ...  \\\n",
       "0         KKR      KKR  BOWL FIRST            131/5  ...   \n",
       "1          MI       DC  BOWL FIRST            177/5  ...   \n",
       "2         RCB     KXIP  BOWL FIRST            205/2  ...   \n",
       "3         LSG       GT  BOWL FIRST            158/6  ...   \n",
       "4          RR      SRH  BOWL FIRST            210/6  ...   \n",
       "..        ...      ...         ...              ...  ...   \n",
       "953        MI       MI  BOWL FIRST            122/9  ...   \n",
       "954        RR       RR  BOWL FIRST            221/3  ...   \n",
       "955        RR       DC  BOWL FIRST            192/9  ...   \n",
       "956      KXIP     KXIP   BAT FIRST            112/8  ...   \n",
       "957        RR       RR  BOWL FIRST            163/5  ...   \n",
       "\n",
       "                                           home_playx1  \\\n",
       "0    Ruturaj Gaikwad (UKN),Devon Conway (UKN),Robin...   \n",
       "1    Prithvi Shaw (UKN),Tim Seifert (UKN),Mandeep S...   \n",
       "2    Mayank Agarwal (UKN),Shikhar Dhawan (UKN),Bhan...   \n",
       "3    Shubman Gill (UKN),Matthew Wade (WK),Vijay Sha...   \n",
       "4    Kane Williamson (UKN),Abhishek Sharma (AR),Rah...   \n",
       "..                                                 ...   \n",
       "953  Mark Boucher (BT),Shreevats Goswami (WK),Misba...   \n",
       "954  Shaun Marsh (BT),James Hopes (AR),Yuvraj Singh...   \n",
       "955  Gautam Gambhir (BT),Virender Sehwag (BT),Shikh...   \n",
       "956  Parthiv Patel (WK),Vidyut Sivaramakrishnan (UK...   \n",
       "957  Parthiv Patel (WK),Vidyut Sivaramakrishnan (UK...   \n",
       "\n",
       "                                           away_playx1  \\\n",
       "0    Ajinkya Rahane (UKN),Venkatesh Iyer (AR),Nitis...   \n",
       "1    Rohit Sharma (UKN),Ishan Kishan (WK),Anmolpree...   \n",
       "2    Faf du Plessis (UKN),Anuj Rawat (UKN),Virat Ko...   \n",
       "3    KL Rahul (UKN),Quinton de Kock (WK),Evin Lewis...   \n",
       "4    Jos Buttler (UKN),Yashasvi Jaiswal (UKN),Sanju...   \n",
       "..                                                 ...   \n",
       "953  Sanath Jayasuriya (AR),Sachin Tendulkar (BT),R...   \n",
       "954  Mohammad Kaif (BT),Niraj Patel (UKN),Younis Kh...   \n",
       "955  Graeme Smith (BT),Swapnil Asnodkar (BT),Sohail...   \n",
       "956  Shaun Marsh (BT),James Hopes (AR),Kumar Sangak...   \n",
       "957  Niraj Patel (UKN),Swapnil Asnodkar (BT),Kamran...   \n",
       "\n",
       "                       away_key_batsman                    away_key_bowler  \\\n",
       "0           Ajinkya Rahane,Sam Billings     Umesh Yadav,Varun Chakravarthy   \n",
       "1             Ishan Kishan,Rohit Sharma        Basil Thampi,Murugan Ashwin   \n",
       "2            Faf du Plessis,Virat Kohli       Mohammed Siraj,Harshal Patel   \n",
       "3             Deepak Hooda,Ayush Badoni  Dushmantha Chameera,Krunal Pandya   \n",
       "4         Sanju Samson,Devdutt Padikkal   Yuzvendra Chahal,Prasidh Krishna   \n",
       "..                                  ...                                ...   \n",
       "953  Sanath Jayasuriya,Sachin Tendulkar      Dilhara Fernando,Dwayne Smith   \n",
       "954            Niraj Patel,Yusuf Pathan          Shane Watson,Yusuf Pathan   \n",
       "955           Shane Watson,Yusuf Pathan           Shane Watson,Munaf Patel   \n",
       "956            Ramesh Powar,Wilkin Mota          Irfan Pathan,Vikram Singh   \n",
       "957       Yusuf Pathan,Swapnil Asnodkar          Yusuf Pathan,Shane Watson   \n",
       "\n",
       "                                          match_days            umpire1  \\\n",
       "0        26 March 2022 - night match (20-over match)     Anil Chaudhary   \n",
       "1    27 March 2022 - day/night match (20-over match)      Saiyed Khalid   \n",
       "2        27 March 2022 - night match (20-over match)     Yeshwant Barde   \n",
       "3        28 March 2022 - night match (20-over match)    Pashchim Pathak   \n",
       "4        29 March 2022 - night match (20-over match)       Ulhas Gandhe   \n",
       "..                                               ...                ...   \n",
       "953    28 May 2008 - day/night match (20-over match)       Billy Bowden   \n",
       "954        28 May 2008 - night match (20-over match)  Krishna Hariharan   \n",
       "955        30 May 2008 - night match (20-over match)       Billy Bowden   \n",
       "956        31 May 2008 - night match (20-over match)          Asad Rauf   \n",
       "957        1 June 2008 - night match (20-over match)       Billy Bowden   \n",
       "\n",
       "               umpire2              tv_umpire                   referee  \\\n",
       "0          Nitin Menon        Virender Sharma               Manu Nayyar   \n",
       "1           Rod Tucker  Jayaraman Madanagopal             Prakash Bhatt   \n",
       "2          Nitin Menon         Anil Chaudhary               Manu Nayyar   \n",
       "3      Virender Sharma             Rod Tucker            Daniel Manohar   \n",
       "4       Bruce Oxenford  KN Ananthapadmanabhan              Shakti Singh   \n",
       "..                 ...                    ...                       ...   \n",
       "953  Arani Jayaprakash         Billy Doctrove           Sir Clive Lloyd   \n",
       "954        Steve Davis           Daryl Harper  Srinivas Venkataraghavan   \n",
       "955      Rudi Koertzen         Billy Doctrove           Javagal Srinath   \n",
       "956       Daryl Harper      Krishna Hariharan  Srinivas Venkataraghavan   \n",
       "957      Rudi Koertzen           Daryl Harper           Javagal Srinath   \n",
       "\n",
       "            reserve_umpire  \n",
       "0    Chirra Ravikanthreddy  \n",
       "1             Nitin Pandit  \n",
       "2             Rohan Pandit  \n",
       "3            Sadashiv Iyer  \n",
       "4        Saidharshan Kumar  \n",
       "..                     ...  \n",
       "953                   None  \n",
       "954               MS Mahal  \n",
       "955                   None  \n",
       "956                   None  \n",
       "957               MR Singh  \n",
       "\n",
       "[958 rows x 45 columns]>"
      ]
     },
     "execution_count": 3,
     "metadata": {},
     "output_type": "execute_result"
    }
   ],
   "source": [
    "df.info"
   ]
  },
  {
   "cell_type": "markdown",
   "id": "82d45342",
   "metadata": {
    "papermill": {
     "duration": 0.008706,
     "end_time": "2023-05-16T04:00:16.665298",
     "exception": false,
     "start_time": "2023-05-16T04:00:16.656592",
     "status": "completed"
    },
    "tags": []
   },
   "source": [
    "There is 958 rows and 45 columns in IPL summary 2022"
   ]
  },
  {
   "cell_type": "code",
   "execution_count": 4,
   "id": "032ec15e",
   "metadata": {
    "execution": {
     "iopub.execute_input": "2023-05-16T04:00:16.683990Z",
     "iopub.status.busy": "2023-05-16T04:00:16.683631Z",
     "iopub.status.idle": "2023-05-16T04:00:16.722960Z",
     "shell.execute_reply": "2023-05-16T04:00:16.722091Z"
    },
    "papermill": {
     "duration": 0.05104,
     "end_time": "2023-05-16T04:00:16.724840",
     "exception": false,
     "start_time": "2023-05-16T04:00:16.673800",
     "status": "completed"
    },
    "tags": []
   },
   "outputs": [
    {
     "data": {
      "text/html": [
       "<div>\n",
       "<style scoped>\n",
       "    .dataframe tbody tr th:only-of-type {\n",
       "        vertical-align: middle;\n",
       "    }\n",
       "\n",
       "    .dataframe tbody tr th {\n",
       "        vertical-align: top;\n",
       "    }\n",
       "\n",
       "    .dataframe thead th {\n",
       "        text-align: right;\n",
       "    }\n",
       "</style>\n",
       "<table border=\"1\" class=\"dataframe\">\n",
       "  <thead>\n",
       "    <tr style=\"text-align: right;\">\n",
       "      <th></th>\n",
       "      <th>season</th>\n",
       "      <th>id</th>\n",
       "      <th>venue_id</th>\n",
       "      <th>home_overs</th>\n",
       "      <th>home_runs</th>\n",
       "      <th>home_wickets</th>\n",
       "      <th>home_boundaries</th>\n",
       "      <th>away_overs</th>\n",
       "      <th>away_runs</th>\n",
       "      <th>away_wickets</th>\n",
       "      <th>away_boundaries</th>\n",
       "    </tr>\n",
       "  </thead>\n",
       "  <tbody>\n",
       "    <tr>\n",
       "      <th>count</th>\n",
       "      <td>958.000000</td>\n",
       "      <td>9.580000e+02</td>\n",
       "      <td>958.000000</td>\n",
       "      <td>950.000000</td>\n",
       "      <td>950.000000</td>\n",
       "      <td>950.000000</td>\n",
       "      <td>950.000000</td>\n",
       "      <td>948.000000</td>\n",
       "      <td>948.000000</td>\n",
       "      <td>948.000000</td>\n",
       "      <td>948.000000</td>\n",
       "    </tr>\n",
       "    <tr>\n",
       "      <th>mean</th>\n",
       "      <td>2014.973904</td>\n",
       "      <td>8.283838e+05</td>\n",
       "      <td>122107.409186</td>\n",
       "      <td>19.071368</td>\n",
       "      <td>157.129474</td>\n",
       "      <td>5.763158</td>\n",
       "      <td>19.193684</td>\n",
       "      <td>19.051793</td>\n",
       "      <td>154.531646</td>\n",
       "      <td>5.937764</td>\n",
       "      <td>18.847046</td>\n",
       "    </tr>\n",
       "    <tr>\n",
       "      <th>std</th>\n",
       "      <td>4.316664</td>\n",
       "      <td>3.376360e+05</td>\n",
       "      <td>147116.606610</td>\n",
       "      <td>2.128892</td>\n",
       "      <td>31.491834</td>\n",
       "      <td>2.409961</td>\n",
       "      <td>5.799455</td>\n",
       "      <td>2.158935</td>\n",
       "      <td>30.879130</td>\n",
       "      <td>2.527845</td>\n",
       "      <td>5.571350</td>\n",
       "    </tr>\n",
       "    <tr>\n",
       "      <th>min</th>\n",
       "      <td>2008.000000</td>\n",
       "      <td>3.359820e+05</td>\n",
       "      <td>57851.000000</td>\n",
       "      <td>1.100000</td>\n",
       "      <td>2.000000</td>\n",
       "      <td>0.000000</td>\n",
       "      <td>0.000000</td>\n",
       "      <td>3.200000</td>\n",
       "      <td>41.000000</td>\n",
       "      <td>0.000000</td>\n",
       "      <td>3.000000</td>\n",
       "    </tr>\n",
       "    <tr>\n",
       "      <th>25%</th>\n",
       "      <td>2011.000000</td>\n",
       "      <td>5.012592e+05</td>\n",
       "      <td>58008.000000</td>\n",
       "      <td>19.200000</td>\n",
       "      <td>138.000000</td>\n",
       "      <td>4.000000</td>\n",
       "      <td>15.000000</td>\n",
       "      <td>19.100000</td>\n",
       "      <td>136.000000</td>\n",
       "      <td>4.000000</td>\n",
       "      <td>15.000000</td>\n",
       "    </tr>\n",
       "    <tr>\n",
       "      <th>50%</th>\n",
       "      <td>2015.000000</td>\n",
       "      <td>8.297340e+05</td>\n",
       "      <td>58162.000000</td>\n",
       "      <td>20.000000</td>\n",
       "      <td>159.000000</td>\n",
       "      <td>6.000000</td>\n",
       "      <td>19.000000</td>\n",
       "      <td>20.000000</td>\n",
       "      <td>156.500000</td>\n",
       "      <td>6.000000</td>\n",
       "      <td>19.000000</td>\n",
       "    </tr>\n",
       "    <tr>\n",
       "      <th>75%</th>\n",
       "      <td>2019.000000</td>\n",
       "      <td>1.175370e+06</td>\n",
       "      <td>59120.000000</td>\n",
       "      <td>20.000000</td>\n",
       "      <td>178.000000</td>\n",
       "      <td>8.000000</td>\n",
       "      <td>23.000000</td>\n",
       "      <td>20.000000</td>\n",
       "      <td>175.000000</td>\n",
       "      <td>8.000000</td>\n",
       "      <td>22.000000</td>\n",
       "    </tr>\n",
       "    <tr>\n",
       "      <th>max</th>\n",
       "      <td>2022.000000</td>\n",
       "      <td>1.312200e+06</td>\n",
       "      <td>601879.000000</td>\n",
       "      <td>20.000000</td>\n",
       "      <td>263.000000</td>\n",
       "      <td>10.000000</td>\n",
       "      <td>42.000000</td>\n",
       "      <td>20.000000</td>\n",
       "      <td>245.000000</td>\n",
       "      <td>10.000000</td>\n",
       "      <td>39.000000</td>\n",
       "    </tr>\n",
       "  </tbody>\n",
       "</table>\n",
       "</div>"
      ],
      "text/plain": [
       "            season            id       venue_id  home_overs   home_runs  \\\n",
       "count   958.000000  9.580000e+02     958.000000  950.000000  950.000000   \n",
       "mean   2014.973904  8.283838e+05  122107.409186   19.071368  157.129474   \n",
       "std       4.316664  3.376360e+05  147116.606610    2.128892   31.491834   \n",
       "min    2008.000000  3.359820e+05   57851.000000    1.100000    2.000000   \n",
       "25%    2011.000000  5.012592e+05   58008.000000   19.200000  138.000000   \n",
       "50%    2015.000000  8.297340e+05   58162.000000   20.000000  159.000000   \n",
       "75%    2019.000000  1.175370e+06   59120.000000   20.000000  178.000000   \n",
       "max    2022.000000  1.312200e+06  601879.000000   20.000000  263.000000   \n",
       "\n",
       "       home_wickets  home_boundaries  away_overs   away_runs  away_wickets  \\\n",
       "count    950.000000       950.000000  948.000000  948.000000    948.000000   \n",
       "mean       5.763158        19.193684   19.051793  154.531646      5.937764   \n",
       "std        2.409961         5.799455    2.158935   30.879130      2.527845   \n",
       "min        0.000000         0.000000    3.200000   41.000000      0.000000   \n",
       "25%        4.000000        15.000000   19.100000  136.000000      4.000000   \n",
       "50%        6.000000        19.000000   20.000000  156.500000      6.000000   \n",
       "75%        8.000000        23.000000   20.000000  175.000000      8.000000   \n",
       "max       10.000000        42.000000   20.000000  245.000000     10.000000   \n",
       "\n",
       "       away_boundaries  \n",
       "count       948.000000  \n",
       "mean         18.847046  \n",
       "std           5.571350  \n",
       "min           3.000000  \n",
       "25%          15.000000  \n",
       "50%          19.000000  \n",
       "75%          22.000000  \n",
       "max          39.000000  "
      ]
     },
     "execution_count": 4,
     "metadata": {},
     "output_type": "execute_result"
    }
   ],
   "source": [
    "df.describe()"
   ]
  },
  {
   "cell_type": "code",
   "execution_count": 5,
   "id": "1da95cd2",
   "metadata": {
    "execution": {
     "iopub.execute_input": "2023-05-16T04:00:16.745485Z",
     "iopub.status.busy": "2023-05-16T04:00:16.744874Z",
     "iopub.status.idle": "2023-05-16T04:00:16.751245Z",
     "shell.execute_reply": "2023-05-16T04:00:16.750249Z"
    },
    "papermill": {
     "duration": 0.01901,
     "end_time": "2023-05-16T04:00:16.753124",
     "exception": false,
     "start_time": "2023-05-16T04:00:16.734114",
     "status": "completed"
    },
    "tags": []
   },
   "outputs": [
    {
     "data": {
      "text/plain": [
       "(958, 45)"
      ]
     },
     "execution_count": 5,
     "metadata": {},
     "output_type": "execute_result"
    }
   ],
   "source": [
    "df.shape"
   ]
  },
  {
   "cell_type": "code",
   "execution_count": 6,
   "id": "3e0e0c11",
   "metadata": {
    "execution": {
     "iopub.execute_input": "2023-05-16T04:00:16.773553Z",
     "iopub.status.busy": "2023-05-16T04:00:16.773128Z",
     "iopub.status.idle": "2023-05-16T04:00:16.786691Z",
     "shell.execute_reply": "2023-05-16T04:00:16.785600Z"
    },
    "papermill": {
     "duration": 0.026453,
     "end_time": "2023-05-16T04:00:16.788820",
     "exception": false,
     "start_time": "2023-05-16T04:00:16.762367",
     "status": "completed"
    },
    "tags": []
   },
   "outputs": [
    {
     "data": {
      "text/plain": [
       "season              False\n",
       "id                  False\n",
       "name                False\n",
       "short_name          False\n",
       "description         False\n",
       "home_team           False\n",
       "away_team           False\n",
       "toss_won            False\n",
       "decision            False\n",
       "1st_inning_score     True\n",
       "2nd_inning_score     True\n",
       "home_score           True\n",
       "away_score           True\n",
       "winner              False\n",
       "result              False\n",
       "start_date          False\n",
       "end_date            False\n",
       "venue_id            False\n",
       "venue_name          False\n",
       "home_captain        False\n",
       "away_captain        False\n",
       "pom                 False\n",
       "points              False\n",
       "super_over          False\n",
       "home_overs           True\n",
       "home_runs            True\n",
       "home_wickets         True\n",
       "home_boundaries      True\n",
       "away_overs           True\n",
       "away_runs            True\n",
       "away_wickets         True\n",
       "away_boundaries      True\n",
       "highlights           True\n",
       "home_key_batsman     True\n",
       "home_key_bowler      True\n",
       "home_playx1         False\n",
       "away_playx1         False\n",
       "away_key_batsman     True\n",
       "away_key_bowler      True\n",
       "match_days          False\n",
       "umpire1             False\n",
       "umpire2             False\n",
       "tv_umpire           False\n",
       "referee             False\n",
       "reserve_umpire      False\n",
       "dtype: bool"
      ]
     },
     "execution_count": 6,
     "metadata": {},
     "output_type": "execute_result"
    }
   ],
   "source": [
    "df.isna().max()"
   ]
  },
  {
   "cell_type": "code",
   "execution_count": 7,
   "id": "2fe408f5",
   "metadata": {
    "execution": {
     "iopub.execute_input": "2023-05-16T04:00:16.809633Z",
     "iopub.status.busy": "2023-05-16T04:00:16.808799Z",
     "iopub.status.idle": "2023-05-16T04:00:16.814686Z",
     "shell.execute_reply": "2023-05-16T04:00:16.814068Z"
    },
    "papermill": {
     "duration": 0.018755,
     "end_time": "2023-05-16T04:00:16.817087",
     "exception": false,
     "start_time": "2023-05-16T04:00:16.798332",
     "status": "completed"
    },
    "tags": []
   },
   "outputs": [
    {
     "data": {
      "text/plain": [
       "Index(['season', 'id', 'name', 'short_name', 'description', 'home_team',\n",
       "       'away_team', 'toss_won', 'decision', '1st_inning_score',\n",
       "       '2nd_inning_score', 'home_score', 'away_score', 'winner', 'result',\n",
       "       'start_date', 'end_date', 'venue_id', 'venue_name', 'home_captain',\n",
       "       'away_captain', 'pom', 'points', 'super_over', 'home_overs',\n",
       "       'home_runs', 'home_wickets', 'home_boundaries', 'away_overs',\n",
       "       'away_runs', 'away_wickets', 'away_boundaries', 'highlights',\n",
       "       'home_key_batsman', 'home_key_bowler', 'home_playx1', 'away_playx1',\n",
       "       'away_key_batsman', 'away_key_bowler', 'match_days', 'umpire1',\n",
       "       'umpire2', 'tv_umpire', 'referee', 'reserve_umpire'],\n",
       "      dtype='object')"
      ]
     },
     "execution_count": 7,
     "metadata": {},
     "output_type": "execute_result"
    }
   ],
   "source": [
    "df.columns"
   ]
  },
  {
   "cell_type": "code",
   "execution_count": 8,
   "id": "81e13486",
   "metadata": {
    "execution": {
     "iopub.execute_input": "2023-05-16T04:00:16.838246Z",
     "iopub.status.busy": "2023-05-16T04:00:16.837886Z",
     "iopub.status.idle": "2023-05-16T04:00:16.844594Z",
     "shell.execute_reply": "2023-05-16T04:00:16.843244Z"
    },
    "papermill": {
     "duration": 0.019954,
     "end_time": "2023-05-16T04:00:16.846557",
     "exception": false,
     "start_time": "2023-05-16T04:00:16.826603",
     "status": "completed"
    },
    "tags": []
   },
   "outputs": [
    {
     "data": {
      "text/plain": [
       "0     CSK v KKR\n",
       "1       DC v MI\n",
       "2    PBKS v RCB\n",
       "3      GT v LSG\n",
       "4      SRH v RR\n",
       "5     RCB v KKR\n",
       "6     LSG v CSK\n",
       "7    KKR v PBKS\n",
       "8       MI v RR\n",
       "9       GT v DC\n",
       "Name: short_name, dtype: object"
      ]
     },
     "execution_count": 8,
     "metadata": {},
     "output_type": "execute_result"
    }
   ],
   "source": [
    "df.short_name.head(10)"
   ]
  },
  {
   "cell_type": "code",
   "execution_count": 9,
   "id": "6051851a",
   "metadata": {
    "execution": {
     "iopub.execute_input": "2023-05-16T04:00:16.868065Z",
     "iopub.status.busy": "2023-05-16T04:00:16.867674Z",
     "iopub.status.idle": "2023-05-16T04:00:16.879703Z",
     "shell.execute_reply": "2023-05-16T04:00:16.878891Z"
    },
    "papermill": {
     "duration": 0.025525,
     "end_time": "2023-05-16T04:00:16.881877",
     "exception": false,
     "start_time": "2023-05-16T04:00:16.856352",
     "status": "completed"
    },
    "tags": []
   },
   "outputs": [
    {
     "data": {
      "text/html": [
       "<div>\n",
       "<style scoped>\n",
       "    .dataframe tbody tr th:only-of-type {\n",
       "        vertical-align: middle;\n",
       "    }\n",
       "\n",
       "    .dataframe tbody tr th {\n",
       "        vertical-align: top;\n",
       "    }\n",
       "\n",
       "    .dataframe thead th {\n",
       "        text-align: right;\n",
       "    }\n",
       "</style>\n",
       "<table border=\"1\" class=\"dataframe\">\n",
       "  <thead>\n",
       "    <tr style=\"text-align: right;\">\n",
       "      <th></th>\n",
       "      <th>home_score</th>\n",
       "      <th>short_name</th>\n",
       "      <th>winner</th>\n",
       "    </tr>\n",
       "  </thead>\n",
       "  <tbody>\n",
       "    <tr>\n",
       "      <th>0</th>\n",
       "      <td>131/5</td>\n",
       "      <td>CSK v KKR</td>\n",
       "      <td>KKR</td>\n",
       "    </tr>\n",
       "    <tr>\n",
       "      <th>1</th>\n",
       "      <td>179/6</td>\n",
       "      <td>DC v MI</td>\n",
       "      <td>DC</td>\n",
       "    </tr>\n",
       "    <tr>\n",
       "      <th>2</th>\n",
       "      <td>208/5</td>\n",
       "      <td>PBKS v RCB</td>\n",
       "      <td>PBKS</td>\n",
       "    </tr>\n",
       "    <tr>\n",
       "      <th>3</th>\n",
       "      <td>161/5</td>\n",
       "      <td>GT v LSG</td>\n",
       "      <td>GT</td>\n",
       "    </tr>\n",
       "    <tr>\n",
       "      <th>4</th>\n",
       "      <td>149/7</td>\n",
       "      <td>SRH v RR</td>\n",
       "      <td>RR</td>\n",
       "    </tr>\n",
       "    <tr>\n",
       "      <th>5</th>\n",
       "      <td>132/7</td>\n",
       "      <td>RCB v KKR</td>\n",
       "      <td>RCB</td>\n",
       "    </tr>\n",
       "    <tr>\n",
       "      <th>6</th>\n",
       "      <td>211/4</td>\n",
       "      <td>LSG v CSK</td>\n",
       "      <td>LSG</td>\n",
       "    </tr>\n",
       "    <tr>\n",
       "      <th>7</th>\n",
       "      <td>141/4</td>\n",
       "      <td>KKR v PBKS</td>\n",
       "      <td>KKR</td>\n",
       "    </tr>\n",
       "    <tr>\n",
       "      <th>8</th>\n",
       "      <td>170/8</td>\n",
       "      <td>MI v RR</td>\n",
       "      <td>RR</td>\n",
       "    </tr>\n",
       "    <tr>\n",
       "      <th>9</th>\n",
       "      <td>171/6</td>\n",
       "      <td>GT v DC</td>\n",
       "      <td>GT</td>\n",
       "    </tr>\n",
       "    <tr>\n",
       "      <th>10</th>\n",
       "      <td>126</td>\n",
       "      <td>CSK v PBKS</td>\n",
       "      <td>PBKS</td>\n",
       "    </tr>\n",
       "    <tr>\n",
       "      <th>11</th>\n",
       "      <td>157/9</td>\n",
       "      <td>SRH v LSG</td>\n",
       "      <td>LSG</td>\n",
       "    </tr>\n",
       "    <tr>\n",
       "      <th>12</th>\n",
       "      <td>169/3</td>\n",
       "      <td>RR v RCB</td>\n",
       "      <td>RCB</td>\n",
       "    </tr>\n",
       "    <tr>\n",
       "      <th>13</th>\n",
       "      <td>162/5</td>\n",
       "      <td>KKR v MI</td>\n",
       "      <td>KKR</td>\n",
       "    </tr>\n",
       "    <tr>\n",
       "      <th>14</th>\n",
       "      <td>155/4</td>\n",
       "      <td>LSG v DC</td>\n",
       "      <td>LSG</td>\n",
       "    </tr>\n",
       "    <tr>\n",
       "      <th>15</th>\n",
       "      <td>189/9</td>\n",
       "      <td>PBKS v GT</td>\n",
       "      <td>GT</td>\n",
       "    </tr>\n",
       "    <tr>\n",
       "      <th>16</th>\n",
       "      <td>154/7</td>\n",
       "      <td>CSK v SRH</td>\n",
       "      <td>SRH</td>\n",
       "    </tr>\n",
       "    <tr>\n",
       "      <th>17</th>\n",
       "      <td>152/3</td>\n",
       "      <td>RCB v MI</td>\n",
       "      <td>RCB</td>\n",
       "    </tr>\n",
       "    <tr>\n",
       "      <th>18</th>\n",
       "      <td>171</td>\n",
       "      <td>KKR v DC</td>\n",
       "      <td>DC</td>\n",
       "    </tr>\n",
       "    <tr>\n",
       "      <th>19</th>\n",
       "      <td>165/6</td>\n",
       "      <td>RR v LSG</td>\n",
       "      <td>RR</td>\n",
       "    </tr>\n",
       "  </tbody>\n",
       "</table>\n",
       "</div>"
      ],
      "text/plain": [
       "   home_score  short_name winner\n",
       "0       131/5   CSK v KKR    KKR\n",
       "1       179/6     DC v MI     DC\n",
       "2       208/5  PBKS v RCB   PBKS\n",
       "3       161/5    GT v LSG     GT\n",
       "4       149/7    SRH v RR     RR\n",
       "5       132/7   RCB v KKR    RCB\n",
       "6       211/4   LSG v CSK    LSG\n",
       "7       141/4  KKR v PBKS    KKR\n",
       "8       170/8     MI v RR     RR\n",
       "9       171/6     GT v DC     GT\n",
       "10        126  CSK v PBKS   PBKS\n",
       "11      157/9   SRH v LSG    LSG\n",
       "12      169/3    RR v RCB    RCB\n",
       "13      162/5    KKR v MI    KKR\n",
       "14      155/4    LSG v DC    LSG\n",
       "15      189/9   PBKS v GT     GT\n",
       "16      154/7   CSK v SRH    SRH\n",
       "17      152/3    RCB v MI    RCB\n",
       "18        171    KKR v DC     DC\n",
       "19      165/6    RR v LSG     RR"
      ]
     },
     "execution_count": 9,
     "metadata": {},
     "output_type": "execute_result"
    }
   ],
   "source": [
    "df[['home_score','short_name','winner']].head(20)"
   ]
  },
  {
   "cell_type": "code",
   "execution_count": 10,
   "id": "1049e6cc",
   "metadata": {
    "execution": {
     "iopub.execute_input": "2023-05-16T04:00:16.903189Z",
     "iopub.status.busy": "2023-05-16T04:00:16.902584Z",
     "iopub.status.idle": "2023-05-16T04:00:17.266073Z",
     "shell.execute_reply": "2023-05-16T04:00:17.264393Z"
    },
    "papermill": {
     "duration": 0.376187,
     "end_time": "2023-05-16T04:00:17.267983",
     "exception": false,
     "start_time": "2023-05-16T04:00:16.891796",
     "status": "completed"
    },
    "tags": []
   },
   "outputs": [
    {
     "name": "stderr",
     "output_type": "stream",
     "text": [
      "/tmp/ipykernel_20/3272307416.py:1: MatplotlibDeprecationWarning: The seaborn styles shipped by Matplotlib are deprecated since 3.6, as they no longer correspond to the styles shipped by seaborn. However, they will remain available as 'seaborn-v0_8-<style>'. Alternatively, directly use the seaborn API instead.\n",
      "  plt.style.use('seaborn-whitegrid')\n",
      "/tmp/ipykernel_20/3272307416.py:3: FutureWarning: The default value of numeric_only in DataFrame.corr is deprecated. In a future version, it will default to False. Select only valid columns or specify the value of numeric_only to silence this warning.\n",
      "  sns.heatmap(df.corr())\n"
     ]
    },
    {
     "data": {
      "image/png": "[encoded data removed]",
      "text/plain": [
       "<Figure size 1200x1100 with 2 Axes>"
      ]
     },
     "metadata": {},
     "output_type": "display_data"
    }
   ],
   "source": [
    "plt.style.use('seaborn-whitegrid')\n",
    "plt.figure(figsize=(12, 11))\n",
    "sns.heatmap(df.corr())\n",
    "plt.show()"
   ]
  },
  {
   "cell_type": "code",
   "execution_count": 11,
   "id": "634bff7a",
   "metadata": {
    "execution": {
     "iopub.execute_input": "2023-05-16T04:00:17.289772Z",
     "iopub.status.busy": "2023-05-16T04:00:17.289423Z",
     "iopub.status.idle": "2023-05-16T04:00:17.469213Z",
     "shell.execute_reply": "2023-05-16T04:00:17.468267Z"
    },
    "papermill": {
     "duration": 0.192879,
     "end_time": "2023-05-16T04:00:17.471007",
     "exception": false,
     "start_time": "2023-05-16T04:00:17.278128",
     "status": "completed"
    },
    "tags": []
   },
   "outputs": [
    {
     "data": {
      "image/png": "[encoded data removed]",
      "text/plain": [
       "<Figure size 640x480 with 1 Axes>"
      ]
     },
     "metadata": {},
     "output_type": "display_data"
    }
   ],
   "source": [
    "df1=df.head(5)\n",
    "plt.plot(df1.short_name,df1.home_runs,color='g')\n",
    "plt.xlabel('Teams')\n",
    "plt.ylabel('runs')\n",
    "plt.title('Match summary')\n",
    "plt.legend(loc='best')\n",
    "plt.show()"
   ]
  },
  {
   "cell_type": "code",
   "execution_count": 12,
   "id": "ca897506",
   "metadata": {
    "execution": {
     "iopub.execute_input": "2023-05-16T04:00:17.495144Z",
     "iopub.status.busy": "2023-05-16T04:00:17.494752Z",
     "iopub.status.idle": "2023-05-16T04:00:17.667817Z",
     "shell.execute_reply": "2023-05-16T04:00:17.666805Z"
    },
    "papermill": {
     "duration": 0.188059,
     "end_time": "2023-05-16T04:00:17.669753",
     "exception": false,
     "start_time": "2023-05-16T04:00:17.481694",
     "status": "completed"
    },
    "tags": []
   },
   "outputs": [
    {
     "data": {
      "image/png": "[encoded data removed]",
      "text/plain": [
       "<Figure size 640x480 with 1 Axes>"
      ]
     },
     "metadata": {},
     "output_type": "display_data"
    }
   ],
   "source": [
    "df1=df.tail(5)\n",
    "plt.plot(df1.short_name,df1.home_runs,color='g')\n",
    "plt.xlabel('Teams')\n",
    "plt.ylabel('runs')\n",
    "plt.title('Match summary')\n",
    "plt.legend(loc='best')\n",
    "plt.show()"
   ]
  },
  {
   "cell_type": "code",
   "execution_count": 13,
   "id": "ea08af19",
   "metadata": {
    "execution": {
     "iopub.execute_input": "2023-05-16T04:00:17.693879Z",
     "iopub.status.busy": "2023-05-16T04:00:17.693508Z",
     "iopub.status.idle": "2023-05-16T04:00:17.976034Z",
     "shell.execute_reply": "2023-05-16T04:00:17.975062Z"
    },
    "papermill": {
     "duration": 0.296999,
     "end_time": "2023-05-16T04:00:17.977981",
     "exception": false,
     "start_time": "2023-05-16T04:00:17.680982",
     "status": "completed"
    },
    "tags": []
   },
   "outputs": [
    {
     "data": {
      "text/plain": [
       "<matplotlib.legend.Legend at 0x7a4724f03a30>"
      ]
     },
     "execution_count": 13,
     "metadata": {},
     "output_type": "execute_result"
    },
    {
     "data": {
      "image/png": "[encoded data removed]",
      "text/plain": [
       "<Figure size 640x480 with 1 Axes>"
      ]
     },
     "metadata": {},
     "output_type": "display_data"
    }
   ],
   "source": [
    "df3=df.head(10)\n",
    "plt.bar(df3.short_name,df3.home_runs,color='g')\n",
    "plt.bar(df3.short_name,df3.away_runs,color='r')\n",
    "plt.xlabel('Teams')\n",
    "plt.ylabel(\"match point\")\n",
    "plt.title(\"match summary\")\n",
    "plt.legend(loc='best')"
   ]
  },
  {
   "cell_type": "code",
   "execution_count": 14,
   "id": "d32bcd75",
   "metadata": {
    "execution": {
     "iopub.execute_input": "2023-05-16T04:00:18.005715Z",
     "iopub.status.busy": "2023-05-16T04:00:18.005365Z",
     "iopub.status.idle": "2023-05-16T04:00:18.206511Z",
     "shell.execute_reply": "2023-05-16T04:00:18.205101Z"
    },
    "papermill": {
     "duration": 0.216684,
     "end_time": "2023-05-16T04:00:18.208838",
     "exception": false,
     "start_time": "2023-05-16T04:00:17.992154",
     "status": "completed"
    },
    "tags": []
   },
   "outputs": [
    {
     "data": {
      "text/plain": [
       "<matplotlib.legend.Legend at 0x7a4724a5bd60>"
      ]
     },
     "execution_count": 14,
     "metadata": {},
     "output_type": "execute_result"
    },
    {
     "data": {
      "image/png": "[encoded data removed]",
      "text/plain": [
       "<Figure size 640x480 with 1 Axes>"
      ]
     },
     "metadata": {},
     "output_type": "display_data"
    }
   ],
   "source": [
    "df3=df.tail(5)\n",
    "plt.bar(df3.short_name,df3.home_runs,color='g')\n",
    "plt.bar(df3.short_name,df3.away_runs,color='r')\n",
    "plt.xlabel('Teams')\n",
    "plt.ylabel(\"match point\")\n",
    "plt.title(\"match summary\")\n",
    "plt.legend(loc='best')"
   ]
  },
  {
   "cell_type": "code",
   "execution_count": 15,
   "id": "5ca621b2",
   "metadata": {
    "execution": {
     "iopub.execute_input": "2023-05-16T04:00:18.234212Z",
     "iopub.status.busy": "2023-05-16T04:00:18.233808Z",
     "iopub.status.idle": "2023-05-16T04:00:18.412002Z",
     "shell.execute_reply": "2023-05-16T04:00:18.410319Z"
    },
    "papermill": {
     "duration": 0.194045,
     "end_time": "2023-05-16T04:00:18.414806",
     "exception": false,
     "start_time": "2023-05-16T04:00:18.220761",
     "status": "completed"
    },
    "tags": []
   },
   "outputs": [
    {
     "data": {
      "image/png": "[encoded data removed]",
      "text/plain": [
       "<Figure size 640x480 with 1 Axes>"
      ]
     },
     "metadata": {},
     "output_type": "display_data"
    }
   ],
   "source": [
    "xpos2=np.arange(len(df1.short_name))\n",
    "plt.xticks(xpos2,df1.short_name)\n",
    "plt.bar(xpos2-0.2,df1.home_runs,width=0.4,label='won')\n",
    "plt.bar(xpos2+0.2,df1.away_runs,width=0.4,label='lost')\n",
    "plt.xlabel('Teams')\n",
    "plt.ylabel(\"matches\")\n",
    "plt.title(\"Teams vs runs\")\n",
    "plt.legend(loc='best')\n",
    "plt.show()"
   ]
  },
  {
   "cell_type": "code",
   "execution_count": 16,
   "id": "600cb766",
   "metadata": {
    "execution": {
     "iopub.execute_input": "2023-05-16T04:00:18.443781Z",
     "iopub.status.busy": "2023-05-16T04:00:18.443389Z",
     "iopub.status.idle": "2023-05-16T04:00:18.611068Z",
     "shell.execute_reply": "2023-05-16T04:00:18.610163Z"
    },
    "papermill": {
     "duration": 0.184415,
     "end_time": "2023-05-16T04:00:18.613266",
     "exception": false,
     "start_time": "2023-05-16T04:00:18.428851",
     "status": "completed"
    },
    "tags": []
   },
   "outputs": [
    {
     "data": {
      "image/png": "[encoded data removed]",
      "text/plain": [
       "<Figure size 640x480 with 1 Axes>"
      ]
     },
     "metadata": {},
     "output_type": "display_data"
    }
   ],
   "source": [
    "xpos2=np.arange(len(df1.short_name))\n",
    "plt.xticks(xpos2,df1.short_name)\n",
    "plt.bar(xpos2-0.2,df1.toss_won,width=0.4,label='toss won team')\n",
    "plt.bar(xpos2+0.2,df1.decision,width=0.4,label='Decision take')\n",
    "plt.xlabel('teams ')\n",
    "plt.ylabel(\"teams\")\n",
    "plt.title(\"toss and Decision\")\n",
    "plt.legend(loc='best')\n",
    "plt.show()"
   ]
  },
  {
   "cell_type": "code",
   "execution_count": 17,
   "id": "fb76883f",
   "metadata": {
    "execution": {
     "iopub.execute_input": "2023-05-16T04:00:18.649460Z",
     "iopub.status.busy": "2023-05-16T04:00:18.648935Z",
     "iopub.status.idle": "2023-05-16T04:00:18.853448Z",
     "shell.execute_reply": "2023-05-16T04:00:18.852608Z"
    },
    "papermill": {
     "duration": 0.225275,
     "end_time": "2023-05-16T04:00:18.855715",
     "exception": false,
     "start_time": "2023-05-16T04:00:18.630440",
     "status": "completed"
    },
    "tags": []
   },
   "outputs": [
    {
     "data": {
      "image/png": "[encoded data removed]",
      "text/plain": [
       "<Figure size 640x480 with 1 Axes>"
      ]
     },
     "metadata": {},
     "output_type": "display_data"
    }
   ],
   "source": [
    "df1=df.head(5)\n",
    "xpos2=np.arange(len(df1.short_name))\n",
    "plt.xticks(xpos2,df1.short_name)\n",
    "plt.bar(xpos2-0.2,df1.home_runs,width=0.4,label='home runs')\n",
    "plt.bar(xpos2+0.2,df1.away_runs,width=0.4,label='away runs')\n",
    "plt.xlabel('Teams')\n",
    "plt.ylabel(\"runs\")\n",
    "plt.title(\"Teams vs runs\")\n",
    "plt.legend(loc='best')\n",
    "plt.show()"
   ]
  },
  {
   "cell_type": "code",
   "execution_count": 18,
   "id": "257e79d6",
   "metadata": {
    "execution": {
     "iopub.execute_input": "2023-05-16T04:00:18.884200Z",
     "iopub.status.busy": "2023-05-16T04:00:18.882867Z",
     "iopub.status.idle": "2023-05-16T04:00:19.056753Z",
     "shell.execute_reply": "2023-05-16T04:00:19.055978Z"
    },
    "papermill": {
     "duration": 0.189945,
     "end_time": "2023-05-16T04:00:19.058517",
     "exception": false,
     "start_time": "2023-05-16T04:00:18.868572",
     "status": "completed"
    },
    "tags": []
   },
   "outputs": [
    {
     "data": {
      "image/png": "[encoded data removed]",
      "text/plain": [
       "<Figure size 640x480 with 1 Axes>"
      ]
     },
     "metadata": {},
     "output_type": "display_data"
    }
   ],
   "source": [
    "df1=df.tail(5)\n",
    "xpos2=np.arange(len(df1.short_name))\n",
    "plt.xticks(xpos2,df1.short_name)\n",
    "plt.bar(xpos2-0.2,df1.home_runs,width=0.4,label='home runs')\n",
    "plt.bar(xpos2+0.2,df1.away_runs,width=0.4,label='away runs')\n",
    "plt.xlabel('Teams')\n",
    "plt.ylabel(\"runs\")\n",
    "plt.title(\"Teams vs runs\")\n",
    "plt.legend(loc='best')\n",
    "plt.show()"
   ]
  },
  {
   "cell_type": "code",
   "execution_count": null,
   "id": "b024052d",
   "metadata": {
    "papermill": {
     "duration": 0.012888,
     "end_time": "2023-05-16T04:00:19.084898",
     "exception": false,
     "start_time": "2023-05-16T04:00:19.072010",
     "status": "completed"
    },
    "tags": []
   },
   "outputs": [],
   "source": []
  },
  {
   "cell_type": "code",
   "execution_count": null,
   "id": "d01df8f2",
   "metadata": {
    "papermill": {
     "duration": 0.013565,
     "end_time": "2023-05-16T04:00:19.112483",
     "exception": false,
     "start_time": "2023-05-16T04:00:19.098918",
     "status": "completed"
    },
    "tags": []
   },
   "outputs": [],
   "source": []
  },
  {
   "cell_type": "code",
   "execution_count": null,
   "id": "cd4f2572",
   "metadata": {
    "papermill": {
     "duration": 0.012573,
     "end_time": "2023-05-16T04:00:19.138339",
     "exception": false,
     "start_time": "2023-05-16T04:00:19.125766",
     "status": "completed"
    },
    "tags": []
   },
   "outputs": [],
   "source": []
  },
  {
   "cell_type": "code",
   "execution_count": null,
   "id": "da858e46",
   "metadata": {
    "papermill": {
     "duration": 0.012611,
     "end_time": "2023-05-16T04:00:19.163961",
     "exception": false,
     "start_time": "2023-05-16T04:00:19.151350",
     "status": "completed"
    },
    "tags": []
   },
   "outputs": [],
   "source": []
  },
  {
   "cell_type": "code",
   "execution_count": null,
   "id": "13e4ca9e",
   "metadata": {
    "papermill": {
     "duration": 0.012596,
     "end_time": "2023-05-16T04:00:19.189652",
     "exception": false,
     "start_time": "2023-05-16T04:00:19.177056",
     "status": "completed"
    },
    "tags": []
   },
   "outputs": [],
   "source": []
  },
  {
   "cell_type": "code",
   "execution_count": null,
   "id": "e64a0ce8",
   "metadata": {
    "papermill": {
     "duration": 0.013668,
     "end_time": "2023-05-16T04:00:19.217376",
     "exception": false,
     "start_time": "2023-05-16T04:00:19.203708",
     "status": "completed"
    },
    "tags": []
   },
   "outputs": [],
   "source": []
  },
  {
   "cell_type": "code",
   "execution_count": null,
   "id": "847826a5",
   "metadata": {
    "papermill": {
     "duration": 0.013197,
     "end_time": "2023-05-16T04:00:19.244832",
     "exception": false,
     "start_time": "2023-05-16T04:00:19.231635",
     "status": "completed"
    },
    "tags": []
   },
   "outputs": [],
   "source": []
  },
  {
   "cell_type": "code",
   "execution_count": null,
   "id": "93748796",
   "metadata": {
    "papermill": {
     "duration": 0.012827,
     "end_time": "2023-05-16T04:00:19.271470",
     "exception": false,
     "start_time": "2023-05-16T04:00:19.258643",
     "status": "completed"
    },
    "tags": []
   },
   "outputs": [],
   "source": []
  },
  {
   "cell_type": "code",
   "execution_count": null,
   "id": "fc2a9a93",
   "metadata": {
    "papermill": {
     "duration": 0.012783,
     "end_time": "2023-05-16T04:00:19.297273",
     "exception": false,
     "start_time": "2023-05-16T04:00:19.284490",
     "status": "completed"
    },
    "tags": []
   },
   "outputs": [],
   "source": []
  },
  {
   "cell_type": "code",
   "execution_count": null,
   "id": "cdead57a",
   "metadata": {
    "papermill": {
     "duration": 0.012991,
     "end_time": "2023-05-16T04:00:19.324240",
     "exception": false,
     "start_time": "2023-05-16T04:00:19.311249",
     "status": "completed"
    },
    "tags": []
   },
   "outputs": [],
   "source": []
  },
  {
   "cell_type": "code",
   "execution_count": null,
   "id": "ef2a20e6",
   "metadata": {
    "papermill": {
     "duration": 0.015015,
     "end_time": "2023-05-16T04:00:19.352334",
     "exception": false,
     "start_time": "2023-05-16T04:00:19.337319",
     "status": "completed"
    },
    "tags": []
   },
   "outputs": [],
   "source": []
  },
  {
   "cell_type": "code",
   "execution_count": null,
   "id": "8c3322cf",
   "metadata": {
    "papermill": {
     "duration": 0.013157,
     "end_time": "2023-05-16T04:00:19.380384",
     "exception": false,
     "start_time": "2023-05-16T04:00:19.367227",
     "status": "completed"
    },
    "tags": []
   },
   "outputs": [],
   "source": []
  },
  {
   "cell_type": "code",
   "execution_count": null,
   "id": "7a4cb2a7",
   "metadata": {
    "papermill": {
     "duration": 0.01305,
     "end_time": "2023-05-16T04:00:19.406715",
     "exception": false,
     "start_time": "2023-05-16T04:00:19.393665",
     "status": "completed"
    },
    "tags": []
   },
   "outputs": [],
   "source": []
  },
  {
   "cell_type": "code",
   "execution_count": null,
   "id": "9c9f428e",
   "metadata": {
    "papermill": {
     "duration": 0.013352,
     "end_time": "2023-05-16T04:00:19.433629",
     "exception": false,
     "start_time": "2023-05-16T04:00:19.420277",
     "status": "completed"
    },
    "tags": []
   },
   "outputs": [],
   "source": []
  },
  {
   "cell_type": "code",
   "execution_count": null,
   "id": "f5725206",
   "metadata": {
    "papermill": {
     "duration": 0.013188,
     "end_time": "2023-05-16T04:00:19.460612",
     "exception": false,
     "start_time": "2023-05-16T04:00:19.447424",
     "status": "completed"
    },
    "tags": []
   },
   "outputs": [],
   "source": []
  },
  {
   "cell_type": "code",
   "execution_count": null,
   "id": "a43d2122",
   "metadata": {
    "papermill": {
     "duration": 0.012712,
     "end_time": "2023-05-16T04:00:19.486402",
     "exception": false,
     "start_time": "2023-05-16T04:00:19.473690",
     "status": "completed"
    },
    "tags": []
   },
   "outputs": [],
   "source": []
  },
  {
   "cell_type": "code",
   "execution_count": null,
   "id": "b0fccb5d",
   "metadata": {
    "papermill": {
     "duration": 0.012909,
     "end_time": "2023-05-16T04:00:19.512515",
     "exception": false,
     "start_time": "2023-05-16T04:00:19.499606",
     "status": "completed"
    },
    "tags": []
   },
   "outputs": [],
   "source": []
  },
  {
   "cell_type": "code",
   "execution_count": null,
   "id": "ba088ee3",
   "metadata": {
    "papermill": {
     "duration": 0.01322,
     "end_time": "2023-05-16T04:00:19.538920",
     "exception": false,
     "start_time": "2023-05-16T04:00:19.525700",
     "status": "completed"
    },
    "tags": []
   },
   "outputs": [],
   "source": []
  },
  {
   "cell_type": "code",
   "execution_count": null,
   "id": "e388bb8a",
   "metadata": {
    "papermill": {
     "duration": 0.012986,
     "end_time": "2023-05-16T04:00:19.565141",
     "exception": false,
     "start_time": "2023-05-16T04:00:19.552155",
     "status": "completed"
    },
    "tags": []
   },
   "outputs": [],
   "source": []
  },
  {
   "cell_type": "code",
   "execution_count": null,
   "id": "81918b2c",
   "metadata": {
    "papermill": {
     "duration": 0.01251,
     "end_time": "2023-05-16T04:00:19.590585",
     "exception": false,
     "start_time": "2023-05-16T04:00:19.578075",
     "status": "completed"
    },
    "tags": []
   },
   "outputs": [],
   "source": []
  },
  {
   "cell_type": "code",
   "execution_count": null,
   "id": "a6b1d43d",
   "metadata": {
    "papermill": {
     "duration": 0.012397,
     "end_time": "2023-05-16T04:00:19.615864",
     "exception": false,
     "start_time": "2023-05-16T04:00:19.603467",
     "status": "completed"
    },
    "tags": []
   },
   "outputs": [],
   "source": []
  },
  {
   "cell_type": "code",
   "execution_count": null,
   "id": "3af36c27",
   "metadata": {
    "papermill": {
     "duration": 0.013341,
     "end_time": "2023-05-16T04:00:19.643096",
     "exception": false,
     "start_time": "2023-05-16T04:00:19.629755",
     "status": "completed"
    },
    "tags": []
   },
   "outputs": [],
   "source": []
  },
  {
   "cell_type": "code",
   "execution_count": null,
   "id": "2b91a637",
   "metadata": {
    "papermill": {
     "duration": 0.012571,
     "end_time": "2023-05-16T04:00:19.669277",
     "exception": false,
     "start_time": "2023-05-16T04:00:19.656706",
     "status": "completed"
    },
    "tags": []
   },
   "outputs": [],
   "source": []
  },
  {
   "cell_type": "code",
   "execution_count": null,
   "id": "5aa00184",
   "metadata": {
    "papermill": {
     "duration": 0.012551,
     "end_time": "2023-05-16T04:00:19.694755",
     "exception": false,
     "start_time": "2023-05-16T04:00:19.682204",
     "status": "completed"
    },
    "tags": []
   },
   "outputs": [],
   "source": []
  },
  {
   "cell_type": "code",
   "execution_count": null,
   "id": "70bdaa47",
   "metadata": {
    "papermill": {
     "duration": 0.012703,
     "end_time": "2023-05-16T04:00:19.720295",
     "exception": false,
     "start_time": "2023-05-16T04:00:19.707592",
     "status": "completed"
    },
    "tags": []
   },
   "outputs": [],
   "source": []
  },
  {
   "cell_type": "code",
   "execution_count": null,
   "id": "bd0e7cc6",
   "metadata": {
    "papermill": {
     "duration": 0.012986,
     "end_time": "2023-05-16T04:00:19.746202",
     "exception": false,
     "start_time": "2023-05-16T04:00:19.733216",
     "status": "completed"
    },
    "tags": []
   },
   "outputs": [],
   "source": []
  },
  {
   "cell_type": "code",
   "execution_count": null,
   "id": "62be7f18",
   "metadata": {
    "papermill": {
     "duration": 0.013047,
     "end_time": "2023-05-16T04:00:19.772564",
     "exception": false,
     "start_time": "2023-05-16T04:00:19.759517",
     "status": "completed"
    },
    "tags": []
   },
   "outputs": [],
   "source": []
  },
  {
   "cell_type": "code",
   "execution_count": null,
   "id": "c03f241c",
   "metadata": {
    "papermill": {
     "duration": 0.012687,
     "end_time": "2023-05-16T04:00:19.798271",
     "exception": false,
     "start_time": "2023-05-16T04:00:19.785584",
     "status": "completed"
    },
    "tags": []
   },
   "outputs": [],
   "source": []
  },
  {
   "cell_type": "code",
   "execution_count": null,
   "id": "60929503",
   "metadata": {
    "papermill": {
     "duration": 0.01281,
     "end_time": "2023-05-16T04:00:19.824143",
     "exception": false,
     "start_time": "2023-05-16T04:00:19.811333",
     "status": "completed"
    },
    "tags": []
   },
   "outputs": [],
   "source": []
  },
  {
   "cell_type": "code",
   "execution_count": null,
   "id": "1b39b8cf",
   "metadata": {
    "papermill": {
     "duration": 0.012958,
     "end_time": "2023-05-16T04:00:19.850342",
     "exception": false,
     "start_time": "2023-05-16T04:00:19.837384",
     "status": "completed"
    },
    "tags": []
   },
   "outputs": [],
   "source": []
  }
 ],
 "metadata": {
  "kernelspec": {
   "display_name": "Python 3",
   "language": "python",
   "name": "python3"
  },
  "language_info": {
   "codemirror_mode": {
    "name": "ipython",
    "version": 3
   },
   "file_extension": ".py",
   "mimetype": "text/x-python",
   "name": "python",
   "nbconvert_exporter": "python",
   "pygments_lexer": "ipython3",
   "version": "3.10.10"
  },
  "papermill": {
   "default_parameters": {},
   "duration": 14.996455,
   "end_time": "2023-05-16T04:00:20.884950",
   "environment_variables": {},
   "exception": null,
   "input_path": "__notebook__.ipynb",
   "output_path": "__notebook__.ipynb",
   "parameters": {},
   "start_time": "2023-05-16T04:00:05.888495",
   "version": "2.4.0"
  }
 },
 "nbformat": 4,
 "nbformat_minor": 5
}
